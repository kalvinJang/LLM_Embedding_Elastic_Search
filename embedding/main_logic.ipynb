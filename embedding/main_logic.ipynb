{
 "cells": [
  {
   "cell_type": "markdown",
   "metadata": {},
   "source": [
    "### flask 서버로 post 요청해서 테스트"
   ]
  },
  {
   "cell_type": "code",
   "execution_count": 271,
   "metadata": {},
   "outputs": [
    {
     "name": "stdout",
     "output_type": "stream",
     "text": [
      "[['쭈앤쭈 광흥창역점', '서울 마포구 창전동', 100.0], ['나이스샐러드', '서울 마포구 도화동', 100.0], ['산동만두', '서울 마포구 도화동', 98.11320754716981], ['레이지수잔', '서울 용산구 용문동', 97.2972972972973], ['마포왕족발', '서울 마포구 공덕동', 96.3157894736842], ['종로수제비 공덕점', '서울 마포구 공덕동', 96.20253164556962], ['후라토식당 여의도직영점', '서울 영등포구 여의도동', 95.5249569707401], ['부영각', '서울 마포구 용강동', 93.58974358974359], ['밤노을', '서울 용산구 한강로3가', 92.5925925925926], ['권서방네순대 여의도점', '서울 영등포구 여의도동', 92.5], ['써브웨이 공덕역롯데캐슬점', '서울 마포구 공덕동', 91.37931034482759], ['카페마마스 여의도점', '서울 영등포구 여의도동', 89.21568627450979]]\n"
     ]
    }
   ],
   "source": [
    "import requests\n",
    "data = {},\n",
    "response = requests.post('post_url', json=data)\n",
    "print(response.json())"
   ]
  },
  {
   "cell_type": "markdown",
   "id": "bf413667",
   "metadata": {},
   "source": [
    "### step1. 공통 중심 위치 - 원 안에 들어있는 식당 찾기"
   ]
  },
  {
   "cell_type": "code",
   "execution_count": 3,
   "id": "da8e0f29",
   "metadata": {},
   "outputs": [],
   "source": [
    "import matplotlib.pyplot as plt\n",
    "from matplotlib.patches import Circle\n",
    "import numpy as np\n",
    "import faiss, math, copy, itertools, random, pickle, string\n",
    "from collections import Counter\n",
    "import pandas as pd\n",
    "import itertools"
   ]
  },
  {
   "cell_type": "code",
   "execution_count": 188,
   "id": "00f2aeb7",
   "metadata": {},
   "outputs": [],
   "source": [
    "def find_combinations(lst, num):\n",
    "    # 리스트에서 3개 요소의 모든 조합을 찾음\n",
    "    return list(itertools.combinations(lst, num))\n",
    "\n",
    "def get_circumcenter(points, eps):\n",
    "    # return : tuple (원 중심, 원 반지름)\n",
    "    x1, y1 = points[0]\n",
    "    x2, y2 = points[1]\n",
    "    x3, y3 = points[2]\n",
    "    x = (x1**2*y2 - x1**2*y3 - x2**2*y1 + x2**2*y3 + x3**2*y1 - x3**2*y2 + y1**2*y2 - y1**2*y3 - y2**2*y1 + y2**2*y3 + y3**2*y1 - y3**2*y2)\n",
    "    x /=  2*x1*y2 - 2*x1*y3 - (2*x2*y1 - 2*x2*y3) + 2*x3*y1 - 2*x3*y2\n",
    "\n",
    "    y = -(x1**2*x2 - x1**2*x3 - x2**2*x1 + x2**2*x3 + x3**2*x1 - x3**2*x2 + y1**2*x2 - y1**2*x3 - y2**2*x1 + y2**2*x3 + y3**2*x1 - y3**2*x2)\n",
    "    y /=  2*x1*y2 - 2*x1*y3 - (2*x2*y1 - 2*x2*y3) + 2*x3*y1 - 2*x3*y2\n",
    "    return np.array([x, y]), np.sqrt((x1-x)**2 + (y1-y)**2) + eps\n",
    "\n",
    "def get_center_radius(points): \n",
    "    # return : tuple (원 중심, 원 반지름)\n",
    "    p1, p2, p3 = np.array(points[0]), np.array(points[1]), np.array(points[2])\n",
    "    d1, d2, d3 = np.linalg.norm(p1 - p2), np.linalg.norm(p2 - p3), np.linalg.norm(p3 - p1)\n",
    "    eps = (d1 + d2 + d3)/3 * 5e-2\n",
    "    sorted = np.sort([d1, d2, d3])\n",
    "    if sorted[0] **2 + sorted[1]**2 < sorted[2]**2:\n",
    "        return (p2 + p3)/2, sorted[2]/2 + eps\n",
    "    else:\n",
    "        return get_circumcenter(points, eps)\n",
    "\n",
    "def circle_score(points, target_p, radius):\n",
    "    dist_vector = np.linalg.norm(points - target_p, axis=1)\n",
    "    insiders = (dist_vector < radius).sum()\n",
    "    return [insiders / radius**2, insiders]\n",
    "\n",
    "def pick_circle_index(score_list, num, min_contain_thold):\n",
    "    candidates = [x[0] if x[1] >= num * min_contain_thold else 0 for x in score_list]\n",
    "    return np.argmax(candidates)\n",
    "\n",
    "def get_outsiders(points, target_p, radius):\n",
    "    dist_vector = np.linalg.norm(points - target_p, axis=1)\n",
    "    return [x for i, x in enumerate(points) if dist_vector[i] > radius]\n",
    "\n",
    "def get_circles(data, min_contain_thold, min_score_decay_thold, min_elem_decay_thold):\n",
    "    # min_contain_thold : 처음 원 찾을 때 전체 포인트의 몇 퍼센트를 포함시킬 것이냐 + outsider중 다음 원에 포함될 최소 퍼센트 비율\n",
    "    # min_score_decay_thold : 다음 원 찾을 때 점수를 얼마나 decay 허용할 것인지 비율\n",
    "    # min_elem_decay_thold : 다음 원 찾을 때 포함되는 포인트 수를 얼마나 decay 허용할 것인지 비율 (이전 원의 몇 퍼센트만 있어도 되나)\n",
    "    pred_score = 0\n",
    "    pred_inners = 0\n",
    "    treasures = []\n",
    "    left_data = copy.deepcopy(data)\n",
    "    while len(left_data) >= 3:\n",
    "        scores = []\n",
    "        combs = find_combinations(left_data, 3)\n",
    "        for x in combs:\n",
    "            x1, x2, x3 = x\n",
    "            if x1==x2 or x2==x3 or x3==x1:\n",
    "                continue\n",
    "            scores.append(circle_score(left_data, *get_center_radius(x)))\n",
    "        pick_thold = min_contain_thold if pred_score == 0 else pred_inners * min_elem_decay_thold/len(left_data)\n",
    "        picked_index = pick_circle_index(scores, len(left_data), pick_thold)\n",
    "        if scores[picked_index][0] > pred_score * min_score_decay_thold and scores[picked_index][1] > pred_inners * min_elem_decay_thold:\n",
    "            pred_score, pred_inners = scores[picked_index][0], scores[picked_index][1]\n",
    "            treasures.append(get_center_radius(combs[picked_index]))\n",
    "            left_data = get_outsiders(left_data, *get_center_radius(combs[picked_index]))\n",
    "        else:\n",
    "            break\n",
    "    return treasures"
   ]
  },
  {
   "cell_type": "code",
   "execution_count": 2,
   "id": "920ceaa5",
   "metadata": {},
   "outputs": [],
   "source": [
    "with open('../naver_ppd_4.pkl', 'rb') as f:\n",
    "    df = pickle.load(f)"
   ]
  },
  {
   "cell_type": "code",
   "execution_count": 209,
   "id": "f4017ebf",
   "metadata": {},
   "outputs": [],
   "source": [
    "from google.cloud import firestore\n",
    "from google.cloud import firestore\n",
    "from google.oauth2 import service_account\n",
    "\n",
    "# 서비스 계정 키 파일을 사용하여 인증\n",
    "credentials = service_account.Credentials.from_service_account_file('serviceAccountKey.json')\n",
    "db = firestore.Client(credentials=credentials)\n",
    "\n",
    "specific_place = dict()\n",
    "num_of_choice_each = []\n",
    "for ID in user_choice:\n",
    "    tmp_place = []\n",
    "    doc_ref = db.collection('Users').document(ID)\n",
    "    # 문서 가져오기\n",
    "    doc = doc_ref.get()\n",
    "    if doc.exists:\n",
    "        # 'markRests' 필드 값 가져오기\n",
    "        for chosen in user_choice[ID]:\n",
    "            mark_rests = doc.to_dict().get('markRests')\n",
    "            tmp_place += mark_rests[chosen]\n",
    "    else:\n",
    "        print('문서가 존재하지 않습니다.')\n",
    "    specific_place[ID] = tmp_place\n",
    "    num_of_choice_each.append(len(tmp_place))"
   ]
  },
  {
   "cell_type": "code",
   "execution_count": 3,
   "id": "2ced1574-3fd2-4778-8d39-48e6099982f0",
   "metadata": {},
   "outputs": [],
   "source": [
    "with open('obj_key2ind.pickle', 'rb') as f:\n",
    "    obj_key2ind = pickle.load(f)"
   ]
  },
  {
   "cell_type": "code",
   "execution_count": null,
   "id": "42074c02",
   "metadata": {},
   "outputs": [
    {
     "name": "stdout",
     "output_type": "stream",
     "text": [
      "# of user input : 35\n"
     ]
    },
    {
     "data": {
      "image/png": "[encoded data removed]",
      "text/plain": [
       "<Figure size 500x399.318 with 1 Axes>"
      ]
     },
     "metadata": {},
     "output_type": "display_data"
    }
   ],
   "source": [
    "user_input_obj_key = [item for sublist in specific_place.values() for item in sublist]  \n",
    "user_input_ind = [obj_key2ind[x] for x in user_input_obj_key] \n",
    "\n",
    "print('# of user input :', len(user_input_obj_key))\n",
    "\n",
    "user_loc = [[float(df[elem]['geolocation'][1]), float(df[elem]['geolocation'][2])] for elem in user_input_ind]\n",
    "normalized_loc = [[elem[0]*math.cos(math.radians(37)), elem[1]] for elem in user_loc]\n",
    "treasures = get_circles(normalized_loc, 1/len(user_choice), 0.75, 0.5)\n",
    "\n",
    "fig, ax = plt.subplots(figsize=(5,5 * math.cos(math.radians(37))))\n",
    "ax.scatter([x[0] for x in normalized_loc][:15], [x[1] for x in normalized_loc][:15], color='r')\n",
    "ax.scatter([x[0] for x in normalized_loc][15:30], [x[1] for x in normalized_loc][15:30], color='g')\n",
    "ax.scatter([x[0] for x in normalized_loc][30:45], [x[1] for x in normalized_loc][30:45], color='b')\n",
    "ax.scatter([x[0] for x in normalized_loc][45:], [x[1] for x in normalized_loc][45:], color='y')\n",
    "circles = []\n",
    "for i, elem in enumerate(treasures):\n",
    "    circles.append(Circle(elem[0], elem[1], fill=True, alpha=0.5 * 0.8**i, color='grey'))\n",
    "    ax.add_patch(circles[-1])\n",
    "    \n",
    "ax.set_ylim(37.4, 37.7)\n",
    "ax.set_xlim(126.75 * math.cos(math.radians(37)), 127.25* math.cos(math.radians(37)))\n",
    "plt.show()"
   ]
  },
  {
   "cell_type": "code",
   "execution_count": null,
   "id": "14ecadb0",
   "metadata": {},
   "outputs": [],
   "source": [
    "df_loc = [[float(elem['geolocation'][1])*math.cos(math.radians(37)), float(elem['geolocation'][2])] for elem in df]\n",
    "obj_key = [elem['obj_key'] for elem in df]  #여기서 바로 title 안 찾는 이유는 title이 겹칠수도 있으니.\n",
    "menu_squeeze = [elem['menu_squeeze'] for elem in df]  ### 메뉴가 없으면 제외시키기 위함\n",
    "\n",
    "satisfied_loc_cond = []\n",
    "rcen_list = []\n",
    "for center in treasures:\n",
    "    x_cen, y_cen = center[0]\n",
    "    r_cen = center[1]\n",
    "    rcen_list.append(r_cen)\n",
    "    for ind, coord in enumerate(df_loc):\n",
    "        x_coord, y_coord = coord\n",
    "        if ((x_coord-x_cen)*math.cos(math.radians(y_cen)))**2+(y_coord-y_cen)**2 <= r_cen**2:\n",
    "            if len(menu_squeeze[ind])!=0:   ### 메뉴가 없으면 제외시킴\n",
    "                satisfied_loc_cond.append(obj_key[ind])\n",
    "satisfied_loc_cond = np.unique(satisfied_loc_cond)"
   ]
  },
  {
   "cell_type": "code",
   "execution_count": 191,
   "id": "3b813bd4",
   "metadata": {
    "scrolled": true
   },
   "outputs": [
    {
     "data": {
      "text/plain": [
       "1521"
      ]
     },
     "execution_count": 191,
     "metadata": {},
     "output_type": "execute_result"
    }
   ],
   "source": [
    "len(satisfied_loc_cond)"
   ]
  },
  {
   "cell_type": "code",
   "execution_count": 192,
   "id": "b67c050f",
   "metadata": {},
   "outputs": [
    {
     "name": "stdout",
     "output_type": "stream",
     "text": [
      "0.008854542212939815 0.979082150653607 0.781199216365426\n",
      "0.003195377848959778\n"
     ]
    }
   ],
   "source": [
    "sum_ = 0\n",
    "for r_cen in rcen_list:\n",
    "    print(r_cen, r_cen * 110.574, r_cen*111.32*math.cos(math.radians(y_cen)))\n",
    "#     sum_ += ((r_cen*111.32*math.cos(math.radians(y_cen)))**2 * math.pi+(r_cen * 110.574)**2*math.pi)/2\n",
    "    sum_ += (r_cen*111.32*math.cos(math.radians(y_cen)))**2 * math.pi\n",
    "print(sum_/600)"
   ]
  },
  {
   "cell_type": "code",
   "execution_count": 4,
   "metadata": {},
   "outputs": [],
   "source": [
    "with open('have_a_meal_module/positive_top5.pkl', 'rb') as f:\n",
    "    positive_top5 = pickle.load(f)"
   ]
  },
  {
   "cell_type": "code",
   "execution_count": 5,
   "metadata": {},
   "outputs": [],
   "source": [
    "with open('have_a_meal_module/long_bads_1106.pkl', 'rb') as f:\n",
    "    long_bads_1106 = pickle.load(f)\n",
    "long_bads = long_bads_1106[long_bads_1106['updated_pred_label']==0].copy()"
   ]
  },
  {
   "cell_type": "code",
   "execution_count": 7,
   "metadata": {},
   "outputs": [
    {
     "data": {
      "text/plain": [
       "127399"
      ]
     },
     "execution_count": 7,
     "metadata": {},
     "output_type": "execute_result"
    }
   ],
   "source": [
    "with open('have_a_meal_module/obj_key2ind.pkl', 'rb') as f:\n",
    "    obj_key2ind = pickle.load(f)\n",
    "obj_list = [x for x in obj_key2ind]\n",
    "len(obj_list)"
   ]
  },
  {
   "cell_type": "code",
   "execution_count": 16,
   "id": "fa73eb53",
   "metadata": {},
   "outputs": [],
   "source": [
    "with open('posneg_ratio_dict_title_key.pkl', 'rb') as f:\n",
    "    ratio_dict = pickle.load(f)"
   ]
  },
  {
   "cell_type": "code",
   "execution_count": 194,
   "id": "6919a436",
   "metadata": {},
   "outputs": [],
   "source": [
    "## obj_key로 title찾기 \n",
    "popul_ind = [obj_key2ind[x] for x in satisfied_loc_cond]\n",
    "popul_title = [df[i]['title'] for i in popul_ind]"
   ]
  },
  {
   "cell_type": "code",
   "execution_count": 195,
   "id": "b17f8c73",
   "metadata": {},
   "outputs": [],
   "source": [
    "## 찾은 title로 긍부정 비율 값 얻기\n",
    "popul_posneg = []\n",
    "popul_posneg_ind = []\n",
    "error_ind = []\n",
    "for key_ind, keyword in enumerate(popul_title):\n",
    "    try:\n",
    "        pn_ratio = ratio_dict[keyword]\n",
    "        if pn_ratio > 85:\n",
    "            popul_posneg.append(pn_ratio)\n",
    "            popul_posneg_ind.append(key_ind)\n",
    "    except Exception as e:\n",
    "        print(keyword)\n",
    "        error_ind.append(key_ind)"
   ]
  },
  {
   "cell_type": "markdown",
   "id": "7c620979",
   "metadata": {},
   "source": [
    "##### 긍부정리뷰 dict로 만들어놓기"
   ]
  },
  {
   "cell_type": "code",
   "execution_count": null,
   "metadata": {},
   "outputs": [
    {
     "data": {
      "application/vnd.jupyter.widget-view+json": {
       "model_id": "125ea42cc9884ea7b978e5e0f246a9b2",
       "version_major": 2,
       "version_minor": 0
      },
      "text/plain": [
       "  0%|          | 0/127399 [00:00<?, ?it/s]"
      ]
     },
     "metadata": {},
     "output_type": "display_data"
    }
   ],
   "source": [
    "### obj_key를 키로 한 긍부정리뷰 dict\n",
    "# from tqdm.notebook import tqdm\n",
    "# posneg = {}\n",
    "# for x in tqdm(obj_list):\n",
    "#     tmp = long_bads[long_bads['obj_key']==x].copy()\n",
    "#     try:\n",
    "#        ratio = 1 - tmp[tmp['updated_pred_label']==0].shape[0] / positive_top5[positive_top5['obj_key']==x]['total_review_counts'].iloc[0]\n",
    "#     except:\n",
    "#         ratio = np.NaN\n",
    "#     posneg[x] = ratio"
   ]
  },
  {
   "cell_type": "code",
   "execution_count": null,
   "metadata": {},
   "outputs": [],
   "source": [
    "# with open('posneg_ratio_dict.pkl', 'wb') as f:\n",
    "#     pickle.dump(posneg, f)"
   ]
  },
  {
   "cell_type": "code",
   "execution_count": 197,
   "id": "666f3528",
   "metadata": {},
   "outputs": [],
   "source": [
    "### title 기준으로 해서 겹치는 가게명이면 덮어씌워짐\n",
    "# from tqdm.notebook import tqdm\n",
    "# ratio_dict = {}\n",
    "# for x in tqdm(df):\n",
    "#     keyword = x['title']\n",
    "#     tmp = long_bads[long_bads['title']==keyword].copy()  ## tmp : 해당 식당의 나쁜 리뷰만 모아져있음\n",
    "#     tmp_total = pos[pos['title']==keyword].copy()    ## tmp_total : 해당 식당의 모든 리뷰가 모아져있음\n",
    "#     try:\n",
    "#         pn_ratio = (1 - tmp[tmp['updated_pred_label']==0].shape[0] / tmp_total['total_review_counts'].iloc[0]) * 100\n",
    "#     except:  # 리뷰가 없는 애들\n",
    "#         pn_ratio = np.NaN\n",
    "#     ratio_dict[keyword] = pn_ratio\n",
    "\n",
    "# import pickle\n",
    "# with open('posneg_ratio_dict.pkl', 'wb') as f:\n",
    "#     pickle.dump(ratio_dict,f)"
   ]
  },
  {
   "cell_type": "code",
   "execution_count": 198,
   "id": "bd3c7c6f",
   "metadata": {},
   "outputs": [
    {
     "data": {
      "text/plain": [
       "(94997, 0.8183470590262224)"
      ]
     },
     "execution_count": 198,
     "metadata": {},
     "output_type": "execute_result"
    }
   ],
   "source": [
    "### 긍부정비율 값이 존재하는 가게수와 전체 가게 127000개에서의 비율\n",
    "len([x for x in ratio_dict.values() if not np.isnan(x)]), len([x for x in ratio_dict.values() if not np.isnan(x)]) / len(ratio_dict)"
   ]
  },
  {
   "cell_type": "code",
   "execution_count": 199,
   "id": "fab2934a",
   "metadata": {},
   "outputs": [],
   "source": [
    "## 긍부정 비율값 index를 satisfied_loc_cond(위치 조건 만족 리스트)의 index에 매칭\n",
    "satisfied_db_indexing = [popul_ind[i] for i in popul_posneg_ind]"
   ]
  },
  {
   "cell_type": "code",
   "execution_count": 200,
   "id": "a04c9fa2",
   "metadata": {
    "scrolled": true
   },
   "outputs": [
    {
     "data": {
      "text/plain": [
       "1303"
      ]
     },
     "execution_count": 200,
     "metadata": {},
     "output_type": "execute_result"
    }
   ],
   "source": [
    "len(satisfied_db_indexing)"
   ]
  },
  {
   "cell_type": "markdown",
   "id": "e3f9b372",
   "metadata": {},
   "source": [
    "### step2. 메뉴 임베딩 벡터 유사도 서치 - 거점 후보군 뽑기"
   ]
  },
  {
   "cell_type": "code",
   "execution_count": 201,
   "id": "f6f7874c",
   "metadata": {},
   "outputs": [],
   "source": [
    "embed_sample = []\n",
    "for i in range(len(df)):\n",
    "    embed_sample.append('/'.join(''.join(''.join(''.join('/'.join([x[0] for x in df[i]['menu_squeeze']]).split('popularrepresentation')).split('representation')).split('popular')).lower().split('n/')).strip())\n",
    "with open('ada-embedded_multi.pkl', 'rb') as f:\n",
    "    embedded = pickle.load(f)\n",
    "embedded = np.array(embedded)\n",
    "embedded_pd = pd.DataFrame(embedded)\n",
    "with open('ada-embedded_multi_ind.pkl', 'rb') as f:\n",
    "    embedded_ind = pickle.load(f)"
   ]
  },
  {
   "cell_type": "code",
   "execution_count": 202,
   "id": "6487d7b9",
   "metadata": {},
   "outputs": [],
   "source": [
    "def indexing(item, embedded_ind=embedded_ind):\n",
    "    ### item :  원래 df3 인덱스 \n",
    "    ### return: 멀티프로세스로 돌린 임베딩 결과의 인덱스 \n",
    "    return embedded_ind[item]\n",
    "def indexvec2distmat_l2(data, index_vector, target_vector):\n",
    "    candidate_mat = data[index_vector]\n",
    "    target_mat = data[target_vector]\n",
    "    return np.sqrt(((candidate_mat[:, np.newaxis] - target_mat)**2).sum(axis=2))\n",
    "def costfunc_min(mat, to_df_ind, num_of_choice_each):\n",
    "    iterator = iter(to_df_ind)\n",
    "    split_lists = []\n",
    "    for size in num_of_choice_each:\n",
    "        split_lists.append(list(islice(iterator, size)))\n",
    "    x0 = 0\n",
    "    sub_min_ind = []\n",
    "    for x in num_of_choice_each:\n",
    "        kth_min = min(5, x)\n",
    "        sub_min_ind += np.argpartition(mat.min(0)[x0:x0+x], kth_min-1)[:kth_min].tolist()\n",
    "        x0=x\n",
    "    return mat[:, sub_min_ind].min(0).sum()\n"
   ]
  },
  {
   "cell_type": "code",
   "execution_count": 203,
   "id": "234f88ff",
   "metadata": {
    "scrolled": true
   },
   "outputs": [],
   "source": [
    "faiss_db = [embedded[indexing(j)] for j in satisfied_db_indexing]\n",
    "# faiss_db_ind = [indexing(j) for j in satisfied_db_indexing]\n",
    "# df 인덱스 -> faiss 인덱스. faiss_db_ind의 인덱스는 satisfied_db_indexing 순서대로. 값은 faiss인덱스. faiss의 인덱스로 할 게 없긴함"
   ]
  },
  {
   "cell_type": "code",
   "execution_count": 204,
   "id": "936e0bc3",
   "metadata": {},
   "outputs": [],
   "source": [
    "###### 데이터셋 생성 (예시)\n",
    "d = embedded_pd.shape[1]  # 벡터의 차원\n",
    "nb = embedded_pd.shape[0]  # 데이터베이스 크기\n",
    "np.random.seed(18)\n",
    "db_vectors = np.array(faiss_db).astype('float32')\n",
    "\n",
    "# 인덱스 생성\n",
    "index11 = faiss.IndexFlatL2(d)  # L2을 사용한 인덱스 생성\n",
    "index11.add(db_vectors)"
   ]
  },
  {
   "cell_type": "code",
   "execution_count": 205,
   "id": "cf0a36c0",
   "metadata": {},
   "outputs": [],
   "source": [
    "k = 5  # 찾고자 하는 이웃의 수\n",
    "query_vectors = np.array([embedded[indexing(x)] for x in user_input_ind]).astype('float32')\n",
    "\n",
    "## D : (user_input개수, k) l2거리\n",
    "## I : (user_input개수, k) db_vectors에서의 인덱스\n",
    "D, I = index11.search(query_vectors, k)"
   ]
  },
  {
   "cell_type": "code",
   "execution_count": 206,
   "id": "f5130e67",
   "metadata": {
    "scrolled": true
   },
   "outputs": [
    {
     "data": {
      "text/plain": [
       "array([[ 749,  959,  237,  701,   77],\n",
       "       [ 867,  719,  388, 1290,  657],\n",
       "       [ 584, 1273, 1061,  815,  278],\n",
       "       [ 227,  710,  977,  317, 1159],\n",
       "       [   6, 1165,  795,  549,  203],\n",
       "       [ 187,  701,  237,  548,  239],\n",
       "       [ 663,  292, 1017,  589,   18],\n",
       "       [ 701,  436,  218,  977,  564],\n",
       "       [1046,  716,  365, 1078,  701],\n",
       "       [  94,  209,  322,  411,  431],\n",
       "       [ 766,  487,  603,  482,  221],\n",
       "       [ 283,  241,  334,  326,  557],\n",
       "       [ 865, 1184,  109,   83,  914],\n",
       "       [ 376,  321,  211,  877,  711],\n",
       "       [   8,  701,  828,  355,  696],\n",
       "       [1199, 1292,   94,  209,  322],\n",
       "       [1248, 1281, 1190,  600,  975],\n",
       "       [ 372, 1012, 1121, 1144, 1298],\n",
       "       [ 892,  628,  915,  862,  381],\n",
       "       [ 372, 1012, 1121, 1144, 1298],\n",
       "       [  27,   22,  570, 1228, 1149],\n",
       "       [ 771,  578, 1192,  144,  944],\n",
       "       [ 638,  228,  554,  225,   75],\n",
       "       [1284,  280, 1291,  428,  819],\n",
       "       [  78,  171,  290,  306,  417],\n",
       "       [ 796,  223,  524,  104,  721],\n",
       "       [ 186,  436,  151,   44,  103],\n",
       "       [ 977,  436,  701, 1038,  669],\n",
       "       [  55,  712,   75,  983,  841],\n",
       "       [ 539,  701,  910,  365,  696],\n",
       "       [ 147,   16,  113, 1205,  960],\n",
       "       [ 857,  607,  967, 1251,  201],\n",
       "       [ 235,  396,  300,   91,  716],\n",
       "       [1264,  489, 1193,  752,  924],\n",
       "       [ 494,  766,    9,  272,  644],\n",
       "       [ 749,  959,  237,  701,   77]])"
      ]
     },
     "execution_count": 206,
     "metadata": {},
     "output_type": "execute_result"
    }
   ],
   "source": [
    "I    # db_vector에서 몇 번째인지 인덱스"
   ]
  },
  {
   "cell_type": "code",
   "execution_count": 207,
   "id": "7b9fbb95",
   "metadata": {},
   "outputs": [],
   "source": [
    "faiss_res_in_df_ind = [satisfied_db_indexing[x] for x in I.reshape(-1)]\n",
    "faiss_res_in_df_ind = np.unique(faiss_res_in_df_ind)"
   ]
  },
  {
   "cell_type": "markdown",
   "id": "c780d8f4",
   "metadata": {},
   "source": [
    "### step3. 거점 후보군<->유저input 간 최소거리 합의 최소화 조합 찾기"
   ]
  },
  {
   "cell_type": "code",
   "execution_count": 221,
   "id": "8cc3f5b9",
   "metadata": {
    "scrolled": true
   },
   "outputs": [
    {
     "name": "stdout",
     "output_type": "stream",
     "text": [
      "100000\n",
      "3.4710878432092906\n",
      "3.174024077621055\n",
      "1.8661839108448002\n",
      "1.4516649654117046\n",
      "1.308613132249557\n",
      "1.2721265502254728\n",
      "0.9057906410179206\n",
      "0.524172127598904\n",
      "0.5240368176485025\n",
      "0.3450820618154135\n",
      "CPU times: user 2.31 s, sys: 172 ms, total: 2.48 s\n",
      "Wall time: 2.46 s\n"
     ]
    }
   ],
   "source": [
    "%%time\n",
    "I_in_df_ind = np.array([satisfied_db_indexing[x] for x in I[:,0]])\n",
    "distmat = indexvec2distmat_l2(embedded, faiss_res_in_df_ind, I_in_df_ind)\n",
    "min_inds = []\n",
    "min_value = 100000\n",
    "target_num = 20\n",
    "\n",
    "if len(faiss_res_in_df_ind)<=30:\n",
    "    numbers = np.arange(len(faiss_res_in_df_ind))\n",
    "    combinations = list(itertools.combinations(numbers, target_num))\n",
    "    random.shuffle(combinations)\n",
    "else:\n",
    "    num_samples = 100000\n",
    "    combinations = [np.random.choice(len(faiss_res_in_df_ind), target_num, replace=False) for _ in range(num_samples)]\n",
    "    \n",
    "for i in range(min(100000, len(combinations))):\n",
    "    random_integers = [x for x in combinations[i]]\n",
    "    sim_mat = distmat[random_integers]    \n",
    "    if costfunc_min(sim_mat, I_in_df_ind, num_of_choice_each) < min_value:\n",
    "        print(min_value)\n",
    "        min_inds = random_integers\n",
    "        min_value = costfunc_min(sim_mat, I_in_df_ind, num_of_choice_each)\n",
    "output_inds = np.array(faiss_res_in_df_ind)[min_inds]"
   ]
  },
  {
   "cell_type": "code",
   "execution_count": 56,
   "id": "937c6f52",
   "metadata": {
    "scrolled": true
   },
   "outputs": [
    {
     "name": "stdout",
     "output_type": "stream",
     "text": [
      "연유라떼 (ice)/수제 꿀자몽에이드/아메라카노/카페라떼 (ice)/생과일쥬스\n",
      "맥다방 카페,디저트\n",
      "시몬스의 닭다리 바베큐/간장 치킨 크림 파스타/리코타 유령 독초 샐러드/마녀의 촛불 샐러드/훈제 연어 샐러드/트러플 알리오올리오/봉골레 파스타/레드크림 꽃게 파스타/빠네 크림 파스타/새우 로제 파스타/눈꽂치즈 토마토 파스타/매콤해물 토마토 파스타/부채살 크림 리조또/김치 칠리 라이스/부채살 토마토 리조또/새우 로제 리조또/고르곤 크럼블 피자/미이라 포테이토 피자/매콤 페퍼로니 피자/콘치즈 피자/링거칵테일\n",
      "마녀주방 대학로점 이탈리아음식\n",
      "부기 화이타/바비큐 포크 타코/트리플 머쉬룸 퀘사디아/부기 화이타/또띠아추가/과카몰리 추가/바비큐 포크 타코/핫 치킨 타코매운맛2단계/케이준 쉬림프 타코/바비큐 포크 퀘사디아매운맛1단계/베이컨 고르곤 퀘사디아매운맛1단계/트리플 머쉬룸 퀘사디아/핫 치킨 퀘사디아매운맛2단계/스테이크 샐러드/블루치즈 샐러드/리코타치즈&또띠아 샐러드/프렌치 프라이즈/핫 버팔로 윙매운맛3단계/치킨 포솔레매운맛1단계/과카몰리 4oz/미니 샐러드/오미자자몽 에이드/유자허니진저 에이드/피나콜라다(논알콜)/콜드브류커피/소프트드링크/하리토스/아크 허그미/아크 선데이모닝/아크 비하이/코로나/도스에끼스 라거/버니니/카스/테라 (terra)/house wine/마가리타/버니니리타/피치크러시/잭콕/진토닉, 봄베이 하이볼/데낄라선라이즈/쿠바리브레/코스모폴리탄/롱아일랜드 아이스티/피나콜라다/피나콜라다(논알콜)/모히또/모히또(논알콜)/호세쿠엘보 (shot)/호세쿠엘보 (bottle)/잭다니엘 (shot)/잭다니엘 (bottle)/봄베이 진 (shot)/봄베이 진 (bottle)/소주/쏘토닉\n",
      "고부기 멕시칸그릴 대학로본점 멕시코,남미음식\n",
      "수제마카롱/당근케이크/수제청(청귤청)/바스크치즈케이크/허니브레드/수제청(레몬생강)/수제청(라임청)/에이드/죠리퐁프라페\n",
      "언니네다락방 카페,디저트\n",
      "불고기백반/김치볶음밥/순두부찌개/돌솥비빔밥/오징어볶음/제육볶음/해물된장/참치김치찌개/김치찌개/부대찌개/삼겹살\n",
      "왕벌 한식\n",
      "전복죽 (보양)/진전복죽 (전복2배)/특전복죽 (전복3배)/전복내장죽/진전복내장죽 (전복2배)/특전복내장죽 (전복3배)/트러플전복죽/트러플전복죽 (특) (전복2배)/삼계전복죽 (보양)/삼계죽 (보양)/불낙죽/홍게품은죽/홍게품은죽 (진) (홍게다리살2배)/홍게품은죽 (특) (홍게다리살3배)/쇠고기야채죽/쇠고기버섯죽/새우죽/특새우죽 (새우2배)/해물죽/냉이불고기현미죽/낙지김치죽 (해장)/(배달앱 전용) 치즈 낙지김치죽/신짬뽕죽 (해장)/(배달앱 전용) 치즈 신짬뽕죽/아이탄탄 전복야채죽/아이든든 쇠고기야채죽/아이쑥쑥 쇠고기미역죽/아이튼튼 새우야채죽/단호박죽/동지팥죽/단팥죽/녹두죽/잣죽/든든한끼 본쇠고기장조림(80g)/든든한끼 본오징어초무침(80g)/키즈장조림(80g)/든든한끼 본버터 쇠고기장조림(70g)/본쇠고기장조림(300g)/단호박 식혜(238ml)/우리 땅, 청매실(100ml)/양배추사과즙(100ml)/진짜배즙(100ml)/뽀로로 홍삼쏙쏙 (100ml)/[이유식] 베이비본죽 한우과일죽(중기)/[이유식] 베이비본죽 닭고기애호박미역죽(중기)/[이유식] 베이비본죽 한우참깨애호박죽(후기)/[이유식] 베이비본죽 닭고기버섯죽(후기)/[이유식] 베이비본죽 한우야채진밥(완료기)/본죽 시그니처 쇠고기죽(270g)/본죽 시그니처 통단팥죽(270g)/본죽 시그니처 누룽지닭죽(270g)/본죽 시그니처 단호박죽(270g)\n",
      "본죽 동묘앞역점 죽\n",
      "짜장면/삼선짜장/볶음짜장/짬뽕/볶음짬뽕/새우볶음밥/치킨볶음밥/마파두부밥/삼선짬뽕/잡채밥/유산슬밥/양장피s/양장피m/양장피l/유산슬s\n",
      "진아춘 중식당\n",
      "라따뚜이/부라타 샐러드/버섯 샐러드/아보카도 새우 샐러드/부채살 스테이크/큐브 스테이크/알리오 올리오/까르보나라/봉골레/카페산테/아마트리치아나/감베레티/마레/버섯 리조또/해물 리조또\n",
      "서울프랑스 프랑스음식\n",
      "부채살스테이크(m)/스테이크크림파스타/버터갈릭프라이/살치살 스테이크 정식 m/살치살 스테이크 정식 l/살치살 스테이크 정식 xl/스테이크 오일 파스타/스테이크 로제 파스타\n",
      "비스트로주라 혜화점 양식\n",
      "올타임콜드브루(r)/올타임콜드브루(l)/아인슈페너2023(r)/아인슈페너2023(l)/(1호점)신촌커피(r)/(1호점)신촌커피(l)/아메리카노(r)/아메리카노(l)/카페라떼(r)/카페라떼(l)/바닐라라떼(r)/바닐라라떼(l)/카페모카(r)/카페모카(l)/카라멜마끼아또(r)/카라멜마끼아또(l)/스페니쉬연유라떼(r)/스페니쉬연유라떼(l)/달고나라떼(r)/달고나라떼(l)/흑임자라떼(r)/흑임자라떼(l)/콜드브루(r)/콜드브루(l)/콜드브루라떼(r)/콜드브루라떼(l)/(1호점)신촌커피디카페인(r)/(1호점)신촌커피디카페인(l)/아인슈페너2023디카페인(r)/아인슈페너2023디카페인(l)/디카페인데이&나잇(r)/레몬바질스파클링(l)/청귤스파클링(l)/애플망고주스(r)/애플망고주스(l)/23수박주스(l)/피치블랙티(r)/피치블랙티(l)/잉글리쉬브렉퍼스트(l)/제주유기농녹차(l)/초콜릿라떼(r)/그릴드베지치즈파니니/트러플머쉬룸오믈렛파니니/말차 캐슈넛 쿠키/크림 피칸 크루아상/베리머치에그/불고기두부샐러드/프룻리코타치즈샐러드/치킨시저샐러드/오트 한 모/발랄한 루시의 떠먹는 옥크치/상큼한 샐리의 떠먹는 딸레치/떠먹는샤인머스캣우유생크림/p.샤인머스캣우유생크림/초콜릿링딩동/빅토리아다쿠아즈초콜릿생크림/화이트포레스트생크림/퀸즈캐롯/밀크생크림 초콜릿 수플레/우리쌀튀일/아몬드코코넛튀일/골든치즈사블레/바통쇼콜라/그릭요거트그래놀라바/투썸에이리스트 핸드드립커피 그리너리블렌드/투썸원두_파푸아뉴기니울리아( 200g )/투썸원두_과테말라안티구아( 200g )/콜드브루 디카페인원액 (500ml)/투썸원두_블랙그라운드(200g)\n",
      "투썸플레이스 동묘앞역점 카페\n",
      "짬뽕/짜장면/탕수육(소_2인)/짬뽕밥(맛보기면+밥)/짜장밥/쟁반짜장/군만두\n",
      "홍콩반점0410 대학로점 중식당\n",
      "마라탕100g/마라상궈100g/쌀국수/샤오롱바오/찹쌀 탕수육/매운가재볶음/빠오즈/볶음면/볶음밥/마라반 100g/산라분/물만두/미니전\n",
      "라화쿵부 동대문역점 마라탕\n",
      "(신메뉴)신전 짜장라면(1인분)/로제프리미엄떡볶이(2~3인분)/로제떡볶이/떡볶이/치즈떡볶이/싱글세트/1세트/2세트/3세트/4세트/패밀리 세트 1/패밀리 세트2\n",
      "신전떡볶이 종로동대문역점 분식\n",
      "목살스테이크샐러드/훈제연어샐러드/바질토마토파스타샐러드/단호박&너츠샐러드/닭가슴살샐러드/수제리코타치즈샐러드/닭다리살샐러드/모듬콩샐러드/새우샐러드/신선 샌드위치/후무스샌드위치/훈제연어샌드위치/참치계란 샌드위치/닭가슴살샌드위치/리코타치즈 샌드위치/아보카도 샌드위치/홈메이드 단호박 스프/베이컨감자스프/플래인치아바타/블랙치아바타/바게트\n",
      "신선식탁 대학로 본점 다이어트,샐러드\n",
      "왕 고기/김치 만두 5개/교자 고기/김치만두 8개\n",
      "내고향왕만두 숭인지점 칼국수,만두\n",
      "런치 1인 세트 lunch 1 person set(1)/런치 2인 세트 lunch 2 person set(2)/인도요리 kali a set 2인(2인)/인도요리 kali a set 3인(3인분)/인도요리 kali c set 4인(4인)/인도요리 kali c set 5인(5인)/인도요리 스페셜 vip b 세트 2인(2인분)/인도요리 스페셜 vip b 세트 3인(3인분)/인도요리 스페셜 vip d 세트 4인(4인)/인도요리 스페셜 vip d 세트 5인(5인분)/green salad 그린샐러드/tandoori chicken salad 탄두리 치킨 샐러드/prawns salad 새우 샐러드/samosa 사모사 (2pcs)(2개)/masala papad 마살라 파파드/chilly chicken 칠리 치킨/chilly mushroom 칠리 머쉬룸/chilly prawns 칠리 새우/tandoori barbecue platter 모듬 탄두리 바비큐(full)/tandoori barbecue platter 모듬 탄두리 바비큐(half)/tandoor paneer tikka 탄두리파니르 티카/tandoori mushroom tikka 탄두리 버섯 티카/tandoori chicken tikka 탄두리 치킨 티카 (boneless)/chicken curry 치킨 커리/chicken makhani 치킨 마카니/chicken korma 치킨 코르마/chicken masala 치킨 마살라/chicken do piaza 치킨 도 피아자/prawns curry 커리새우/prawns makhani 새우 마카니/prawns korma 새우 코르마/prawns masala 새우 마살라/prawns do piaza 새우 도 피자/lamb curry 양고기 커리/lamb korma 양고기 코르마/lamb masala 양고기 마살라/lamb do piaza 양고기 도 피아자/lamb saagwala 양고기 사그왈라/야채/머쉬룸 커리(그래비)/야채/머쉬룸 마카니 mushroom makhani/야채/머쉬룸 코르마/야채/머쉬룸 마살라(그래비)/야채/머쉬룸 마살라(드라이)/veg. biryani 야채 비리야니/chicken biryani 치킨 비리야니/seafood biryani 해산물 비리야니/prawns biryani 새우 비리야니/lamb biryani 양고기 비리야니/veg. chowmein 야채 쵸우면/chicken chowmein 치킨 쵸우면/seafood chowmein 해산물 쵸우면/prawn chowmein 새우 쵸우면/mixed chowmein 믹스 쵸우면/plain nan 플레인 난/butter nan 버터 난/garlic nan 갈릭 난/honey nan 허니 난/herb nan 허브 난/turmeric rice 강황 밥/chawal rice 짜왈 라이스/jeera rice 지라 라이스/plain sweet lassi 플레인 스위트 라씨/mango lassi 망고 라씨/pineapple lassi 파인애플 라씨/strawberry lassi 딸기 라씨/blueberry lassi 블루베리 라씨\n",
      "깔리 인도음식\n",
      "페퍼로니피자/파이브치즈 피자/해산물토마토파스타/스테이크파스타/명란오일파스타/마성의파스타/버섯크림파스타/소고기알리오올리오/베이컨토마토파스타/게딱지밥/고르곤졸라 피자/버섯 피자/마르게리따피자/멕시칸 피자/하와이안 쉬림프 피자\n",
      "명동피자 현대시티아울렛동대문점 피자\n",
      "나주 플럼코트 스무디/보성 녹차레몬 콤부에이드/고흥 유자 하이볼에이드/코코넛커피스무디/수박주스/hot 아메리카노/ice 아메리카노/메가리카노/꿀/바닐라/헤이즐넛 아메리카노/콜드브루 (오리지널/디카페인)/콜드브루 라떼 (오리지널/디카페인)/큐브라떼/카페라떼/카푸치노/바닐라/헤이즐넛라떼\n",
      "메가MGC커피 광장시장남2문점 카페\n",
      "다방커피(hot/ice)/쌍화차/에그양배추토스트/옛날팥빙수(1인 추가시 2000원)/토마토 주스/키위 주스/아메리카노(hot/ice)\n",
      "아바 카페 카페,디저트\n",
      "치즈라볶이범벅/짜파구리범벅/건어물 타짜 세트/먹태/치즈 라볶이/갈릭빠다 포테이토/옛날 통닭(한마리)/옛날 통닭(반마리)/불닭 로제 파스타/오징어롱스틱/치즈볼삼총사/핵불맛돈까스/찐불맛 뼈닭발/양념 감자튀김/순살 치킨/양념 순살 치킨/30cm마약치즈돈까스/통통 군만두/버터구이 오징어/통통 오다리/반건조 오징어/노가리/참 쥐포/골빔면/수제 소세지/모듬 소세지/살얼음 파인애플/고르곤졸라피자/코카콜라(뚱캔)(355ml)/사이다 (뚱캔)(355ml)\n",
      "역전할머니맥주 대학로점 맥주,호프\n"
     ]
    }
   ],
   "source": [
    "for i in range(target_num):\n",
    "    print(embed_sample[output_inds[i]])\n",
    "    print(df[output_inds[i]]['title'], df[output_inds[i]]['category'])"
   ]
  },
  {
   "cell_type": "markdown",
   "id": "d5da20f9",
   "metadata": {},
   "source": [
    "### step4. 가격median range"
   ]
  },
  {
   "cell_type": "code",
   "execution_count": 57,
   "id": "162e2cb6",
   "metadata": {},
   "outputs": [],
   "source": [
    "def calculate_exact_overlap_intervals(intervals):\n",
    "    # Create a list of all start and end points, marking them as such\n",
    "    events = []\n",
    "    for start, end in intervals:\n",
    "        events.append((start, 'start'))\n",
    "        events.append((end, 'end'))\n",
    "\n",
    "    # Sort the events so we process them in order\n",
    "    events.sort()\n",
    "\n",
    "    # Dictionary to store the final result and current overlap counter\n",
    "    overlap_dict = {}\n",
    "    current_overlap = 0\n",
    "    last_point = None\n",
    "\n",
    "    # Iterate over each event\n",
    "    for point, kind in events:\n",
    "        if last_point is not None and current_overlap not in overlap_dict:\n",
    "            overlap_dict[current_overlap] = []\n",
    "        if last_point is not None and point != last_point:\n",
    "            overlap_dict[current_overlap].append((last_point, point))\n",
    "\n",
    "        # Update overlap counter\n",
    "        if kind == 'start':\n",
    "            current_overlap += 1\n",
    "        else:\n",
    "            current_overlap -= 1\n",
    "\n",
    "        last_point = point\n",
    "\n",
    "    return overlap_dict"
   ]
  },
  {
   "cell_type": "code",
   "execution_count": 58,
   "id": "1cc446e9",
   "metadata": {},
   "outputs": [
    {
     "name": "stderr",
     "output_type": "stream",
     "text": [
      "/Users/kalvin/anaconda3/envs/python3-10/lib/python3.10/site-packages/numpy/core/fromnumeric.py:3504: RuntimeWarning: Mean of empty slice.\n",
      "  return _methods._mean(a, axis=axis, dtype=dtype,\n",
      "/Users/kalvin/anaconda3/envs/python3-10/lib/python3.10/site-packages/numpy/core/_methods.py:129: RuntimeWarning: invalid value encountered in scalar divide\n",
      "  ret = ret.dtype.type(ret / rcount)\n"
     ]
    }
   ],
   "source": [
    "price_sample = []\n",
    "for i in range(len(df)):\n",
    "    price_sample.append(([x[1] for x in df[i]['menu_squeeze']]))\n",
    "median_sample = []\n",
    "# low25_sample = []\n",
    "# high25_sample = []\n",
    "error = []\n",
    "median_index=[]\n",
    "for ind, x in enumerate(price_sample):\n",
    "    try:\n",
    "        p = [i for i in x if type(i)!=str]\n",
    "        medp = np.median(p)\n",
    "        if not np.isnan(medp):\n",
    "            median_sample.append(medp)\n",
    "            median_index.append(ind)\n",
    "#         low25_sample.append(np.quantile(p,q=0.25))\n",
    "#         high25_sample.append(np.quantile(p,q=0.75))\n",
    "    except: ## 가격이 empty거나 '변동'이라고만 되어있는 경우\n",
    "        error.append(x)"
   ]
  },
  {
   "cell_type": "code",
   "execution_count": 59,
   "id": "4806ff72",
   "metadata": {},
   "outputs": [],
   "source": [
    "from itertools import islice\n",
    "iterator = iter(user_input_ind)\n",
    "\n",
    "split_lists = []\n",
    "for size in num_of_choice_each:\n",
    "    split_lists.append(list(islice(iterator, size)))\n"
   ]
  },
  {
   "cell_type": "code",
   "execution_count": 60,
   "metadata": {},
   "outputs": [
    {
     "data": {
      "text/plain": [
       "2"
      ]
     },
     "execution_count": 60,
     "metadata": {},
     "output_type": "execute_result"
    }
   ],
   "source": [
    "len(split_lists)"
   ]
  },
  {
   "cell_type": "code",
   "execution_count": 61,
   "id": "1c65d0e1",
   "metadata": {},
   "outputs": [],
   "source": [
    "example = [[price_sample[x] for x in each] for each in split_lists] \n",
    "med_interval = []\n",
    "for i in range(len(example)):\n",
    "    med_tmp = []\n",
    "    for j in example[i]:\n",
    "        j_tmp = [x for x in j if x!='변동']\n",
    "        if len(j_tmp)>0:\n",
    "            med_tmp.append(int(np.median(j_tmp)))\n",
    "    sort_med = sorted(med_tmp)\n",
    "    med_interval.append((sort_med[0], sort_med[-1]))\n",
    "exact_overlap_intervals = calculate_exact_overlap_intervals(med_interval)"
   ]
  },
  {
   "cell_type": "code",
   "execution_count": 62,
   "id": "95b0a00b",
   "metadata": {},
   "outputs": [
    {
     "data": {
      "text/plain": [
       "{1: [(3000, 7500), (21350, 40000)], 2: [(7500, 21350)]}"
      ]
     },
     "execution_count": 62,
     "metadata": {},
     "output_type": "execute_result"
    }
   ],
   "source": [
    "exact_overlap_intervals"
   ]
  },
  {
   "cell_type": "code",
   "execution_count": 63,
   "id": "605c7837",
   "metadata": {},
   "outputs": [],
   "source": [
    "price_median_range = exact_overlap_intervals[len(exact_overlap_intervals)]"
   ]
  },
  {
   "cell_type": "code",
   "execution_count": 103,
   "id": "ebdeb6a6",
   "metadata": {},
   "outputs": [
    {
     "data": {
      "text/plain": [
       "[(7500, 21350)]"
      ]
     },
     "execution_count": 103,
     "metadata": {},
     "output_type": "execute_result"
    }
   ],
   "source": [
    "price_median_range"
   ]
  },
  {
   "cell_type": "code",
   "execution_count": 118,
   "id": "15e7af60",
   "metadata": {
    "scrolled": true
   },
   "outputs": [],
   "source": [
    "output_median_price = [np.median([x[1] for x in df[i]['menu_squeeze'] if x[1]!='변동']) for i in output_inds]"
   ]
  },
  {
   "cell_type": "code",
   "execution_count": 176,
   "id": "8588202d",
   "metadata": {},
   "outputs": [],
   "source": [
    "satisfied_price_cond  = []\n",
    "for interval in price_median_range:\n",
    "    min_median = interval[0]\n",
    "    max_median = interval[1]\n",
    "    for ind, med_ind in enumerate(output_median_price):\n",
    "        if (min_median < med_ind) & (max_median > med_ind):\n",
    "            satisfied_price_cond.append([output_inds[ind], ratio_dict[df[output_inds[ind]]['obj_key']]])"
   ]
  },
  {
   "cell_type": "code",
   "execution_count": 177,
   "metadata": {},
   "outputs": [],
   "source": [
    "from collections import Counter\n",
    "user_input_dupl_index = [x[0] for x in Counter(user_input_ind).most_common() if x[1]>= max(len(split_lists)-1, 2)]\n",
    "satisfied_price_cond += [[x,ratio_dict[df[x]['obj_key']]] for x in user_input_dupl_index]\n",
    "satisfied_price_cond = np.unique(satisfied_price_cond, axis=0)"
   ]
  },
  {
   "cell_type": "code",
   "execution_count": 183,
   "metadata": {},
   "outputs": [
    {
     "data": {
      "text/plain": [
       "40623"
      ]
     },
     "execution_count": 183,
     "metadata": {},
     "output_type": "execute_result"
    }
   ],
   "source": [
    "satisfied_price_cond[0][0]"
   ]
  },
  {
   "cell_type": "code",
   "execution_count": 184,
   "id": "8272b634",
   "metadata": {},
   "outputs": [
    {
     "name": "stdout",
     "output_type": "stream",
     "text": [
      "14\n"
     ]
    },
    {
     "data": {
      "text/plain": [
       "[('왕벌', '서울 종로구 종로3가'),\n",
       " ('역전할머니맥주 대학로점', '서울 종로구 명륜4가 15-1 1층'),\n",
       " ('비스트로주라 혜화점', '서울 종로구 동숭동'),\n",
       " ('명동피자 현대시티아울렛동대문점', '서울 중구 을지로6가'),\n",
       " ('신선식탁 대학로 본점', '서울 종로구 연건동'),\n",
       " ('신선식탁 대학로 본점', '서울 종로구 연건동'),\n",
       " ('본죽 동묘앞역점', '서울 종로구 숭인동'),\n",
       " ('깔리', '서울 종로구 명륜4가 171 171번지 2층'),\n",
       " ('마녀주방 대학로점', '서울 종로구 명륜2가 33-2 2층, 3층'),\n",
       " ('라화쿵부 동대문역점', '서울 종로구 창신동'),\n",
       " ('신전떡볶이 종로동대문역점', '서울 종로구 창신동'),\n",
       " ('고부기 멕시칸그릴 대학로본점', '서울 종로구 동숭동'),\n",
       " ('진아춘', '서울 종로구 명륜4가 66-2'),\n",
       " ('서울프랑스', '서울 종로구 동숭동')]"
      ]
     },
     "execution_count": 184,
     "metadata": {},
     "output_type": "execute_result"
    }
   ],
   "source": [
    "final_suggest_score = sorted(satisfied_price_cond, key=(lambda x: x[1]), reverse=True)\n",
    "final_suggest_ind = [(df[int(x[0])]['title'],df[int(x[0])]['loc'])  for x in final_suggest_score]\n",
    "print(len(final_suggest_ind))\n",
    "final_suggest_ind"
   ]
  },
  {
   "cell_type": "code",
   "execution_count": null,
   "id": "1b621e9c-824e-453f-b9a4-c33bda812e5c",
   "metadata": {},
   "outputs": [],
   "source": []
  },
  {
   "cell_type": "code",
   "execution_count": null,
   "id": "f9985503-39f7-48c5-8d88-a57969f70b02",
   "metadata": {},
   "outputs": [],
   "source": []
  }
 ],
 "metadata": {
  "kernelspec": {
   "display_name": "Python 3 (ipykernel)",
   "language": "python",
   "name": "python3"
  },
  "language_info": {
   "codemirror_mode": {
    "name": "ipython",
    "version": 3
   },
   "file_extension": ".py",
   "mimetype": "text/x-python",
   "name": "python",
   "nbconvert_exporter": "python",
   "pygments_lexer": "ipython3",
   "version": "3.10.12"
  }
 },
 "nbformat": 4,
 "nbformat_minor": 5
}
